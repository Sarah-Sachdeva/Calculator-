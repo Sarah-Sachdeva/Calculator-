{
  "nbformat": 4,
  "nbformat_minor": 0,
  "metadata": {
    "colab": {
      "name": "Calculator.ipynb",
      "provenance": [],
      "collapsed_sections": [],
      "authorship_tag": "ABX9TyMR1biZhwPGC4L16xyul2RT",
      "include_colab_link": true
    },
    "kernelspec": {
      "name": "python3",
      "display_name": "Python 3"
    },
    "language_info": {
      "name": "python"
    }
  },
  "cells": [
    {
      "cell_type": "markdown",
      "metadata": {
        "id": "view-in-github",
        "colab_type": "text"
      },
      "source": [
        "<a href=\"https://colab.research.google.com/github/Sarah-Sachdeva/Calculator-/blob/main/Calculator.ipynb\" target=\"_parent\"><img src=\"https://colab.research.google.com/assets/colab-badge.svg\" alt=\"Open In Colab\"/></a>"
      ]
    },
    {
      "cell_type": "markdown",
      "metadata": {
        "id": "7KplMVzIYyue"
      },
      "source": [
        "**Calculator Script**\n",
        "A simple calculator to perform a binary mathematical opperations."
      ]
    },
    {
      "cell_type": "code",
      "metadata": {
        "id": "BRZpwGhaZNrE"
      },
      "source": [
        "def add(a,b): \n",
        "  return a + b \n",
        "#This function takes two values a and b and it returns the values of a + b (addition).\n",
        "def sub(a,b):\n",
        "  return a-b\n",
        "#This function takes two values a and b and it returns the values of a-b (subtraction).\n",
        "def multiply(a,b):\n",
        "  return a*b\n",
        "#This function takes two values a and b and it returns the values of a*b (multipilcation).\n",
        "def divide(a,b):\n",
        "  return a/b\n",
        "#This function takes two values a and b and it returned the calue of a/b (division).  \n"
      ],
      "execution_count": 16,
      "outputs": []
    },
    {
      "cell_type": "code",
      "metadata": {
        "id": "5NARihaYc6VI"
      },
      "source": [
        "def calc():\n",
        "  is_running = True \n",
        "  # run the calculator and show it is true\n",
        "  result = 0 \n",
        "  save = False \n",
        "#run and show that this is false as the result is zero.\n",
        "\n",
        "  while is_running: \n",
        "    operation = input('Enter a mathematical operator (+, -, * , /) [PRESS Q TO QUIT]:')\n",
        "#When we enter a mathematic operation either plus, minus, multiplication or division. If the person wants to stop using it completly they can press Q to quit.\n",
        "    if operation == 'Q':\n",
        "      break \n",
        "#This sets the code of Q ending the operation. \n",
        "\n",
        "    if not save: \n",
        "      op1 = float(input('Enter the first operand'))\n",
        "    else: \n",
        "      op1 = result\n",
        "    op2 = float(input('Enter the second operand:'))\n",
        "    #float refers to the numbers that are written with a decimal point.\n",
        "    #0p1 will be equivalent to the result. Id the person did not want to save the previous computer then the first number will become.  \n",
        "#When the person types the numbers 'first opperand' and 'second opperand' the result will come. \n",
        "    if operation == '+':\n",
        "      result = add(op1, op2)\n",
        "      print('The result is ', result)\n",
        "  # Once we get the result from our numbers, print 'the result is' with the result typed in by using a varible 'result.'\n",
        "    elif operation == '-':\n",
        "      result = sub(op1, op2)\n",
        "      print('The result is', result)\n",
        "    elif operation == '*':\n",
        "      result = multiply(op1, op2)\n",
        "      print('The result is', result)\n",
        "    elif operation == '/':\n",
        "      result = divide(op1, op2)\n",
        "      print('The result is', result)\n",
        "    else:\n",
        "      print(operation, 'is not a valid operation')\n",
        "\n",
        "\n",
        "    temp = input('Would you like to save the previous computation [Y/N]? [PRESS Q TO QUIT]')\n",
        "    if temp == 'Y': \n",
        "      save = True\n",
        "    elif temp == 'Q':\n",
        "      break\n",
        "    else:\n",
        "      save = False\n",
        "        #We input a choice which can ask the person if they want to save their computation or quit. \n",
        "        #Then we put the code to save the computation   "
      ],
      "execution_count": 17,
      "outputs": []
    },
    {
      "cell_type": "code",
      "metadata": {
        "id": "mT2N8XksluQW"
      },
      "source": [
        "calc()\n",
        "\n"
      ],
      "execution_count": null,
      "outputs": []
    }
  ]
}